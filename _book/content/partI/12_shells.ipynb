{
 "cells": [
  {
   "cell_type": "markdown",
   "metadata": {},
   "source": [
    "# Shells\n",
    "\n",
    "Shells can be thought of as a type of interface that sit between you, a person, and the operating system."
   ]
  },
  {
   "cell_type": "markdown",
   "metadata": {},
   "source": [
    "## Why Shells\n",
    "\n",
    "The first time you encounter a shell you might be saying to yourself\n",
    "\n",
    "> The 1970's called and they want their interface back.\n",
    "\n",
    "Afterall, we currently live in the world of ubiquitous and (relatively) cheap laptop computers that typically come with a nice *graphical user interface*."
   ]
  },
  {
   "cell_type": "code",
   "execution_count": null,
   "metadata": {
    "collapsed": true
   },
   "outputs": [],
   "source": []
  }
 ],
 "metadata": {
  "anaconda-cloud": {},
  "kernelspec": {
   "display_name": "Python [pysal2]",
   "language": "python",
   "name": "Python [pysal2]"
  },
  "language_info": {
   "codemirror_mode": {
    "name": "ipython",
    "version": 2
   },
   "file_extension": ".py",
   "mimetype": "text/x-python",
   "name": "python",
   "nbconvert_exporter": "python",
   "pygments_lexer": "ipython2",
   "version": "2.7.12"
  }
 },
 "nbformat": 4,
 "nbformat_minor": 0
}
