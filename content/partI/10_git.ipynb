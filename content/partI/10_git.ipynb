{
 "cells": [
  {
   "cell_type": "markdown",
   "metadata": {},
   "source": [
    "# Introduction to git and GitHub\n",
    "\n",
    "Since this is our first meeting, the hands-on portion of the session will provide an overview of GitHub. The instructor will be doing the driving and the students can follow along on the lab computers. Next week you will install all the software for the course on your own laptop and the sessions will consist of you doing live coding.\n",
    "\n",
    "\n",
    "In this first session, we introduce GitHub and cover:\n",
    "\n",
    "* What is GitHub\n",
    "* Why use GitHub\n",
    "* How to get started on your own"
   ]
  },
  {
   "cell_type": "markdown",
   "metadata": {},
   "source": [
    "## What is GitHub\n",
    "\n",
    "From their [website](https://guides.github.com/activities/hello-world/)\n",
    "\n",
    "![githubintro](figures/00_ghintro.png)"
   ]
  },
  {
   "cell_type": "markdown",
   "metadata": {},
   "source": [
    "## Why use GitHub"
   ]
  },
  {
   "cell_type": "markdown",
   "metadata": {},
   "source": [
    "![figure](figures/00_sjr.png)"
   ]
  },
  {
   "cell_type": "markdown",
   "metadata": {},
   "source": [
    "## How to get started with GitHub"
   ]
  },
  {
   "cell_type": "markdown",
   "metadata": {},
   "source": [
    "## BitBucket\n",
    "\n",
    "There is an alternative service called [BitBucket](https://bitbucket.org) that you may be interested in\n",
    "\n",
    "![bitbucket](figures/00_bb.png)"
   ]
  },
  {
   "cell_type": "markdown",
   "metadata": {},
   "source": [
    "## Exercise\n",
    "\n",
    "For this first exercise you will work through the [github tutorial](https://guides.github.com/activities/hello-world/).\n",
    "\n",
    "Once you complete the tutorial, go to the course Blackboard site and under Exercise 00, submit the url for your github account along with the link to your work that demonstrated you did in fact complete the tutorial."
   ]
  }
 ],
 "metadata": {
  "anaconda-cloud": {},
  "kernelspec": {
   "display_name": "Python [gds-scipy16]",
   "language": "python",
   "name": "Python [gds-scipy16]"
  },
  "language_info": {
   "codemirror_mode": {
    "name": "ipython",
    "version": 3
   },
   "file_extension": ".py",
   "mimetype": "text/x-python",
   "name": "python",
   "nbconvert_exporter": "python",
   "pygments_lexer": "ipython3",
   "version": "3.5.2"
  }
 },
 "nbformat": 4,
 "nbformat_minor": 0
}
